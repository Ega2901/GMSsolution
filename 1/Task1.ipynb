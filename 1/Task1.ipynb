{
 "cells": [
  {
   "cell_type": "code",
   "execution_count": 20,
   "metadata": {},
   "outputs": [],
   "source": [
    "from rdkit import Chem\n",
    "from rdkit.Chem import AllChem"
   ]
  },
  {
   "cell_type": "code",
   "execution_count": 26,
   "metadata": {},
   "outputs": [],
   "source": [
    "def smiles_to_mol(smiles_string, output_mol_file):\n",
    "    mol = Chem.MolFromSmiles(smiles_string)\n",
    "    if mol is None:\n",
    "        print(\"Ошибка: Невозможно преобразовать SMILES в молекулу\")\n",
    "        return\n",
    "\n",
    "    # Провести оптимизацию геометрии\n",
    "    mol = Chem.AddHs(mol)\n",
    "    AllChem.EmbedMolecule(mol)\n",
    "    AllChem.MMFFOptimizeMolecule(mol)\n",
    "\n",
    "    # Сохранить молекулу в формате .mol\n",
    "    mol_block = Chem.MolToMolBlock(mol)\n",
    "    with open(output_mol_file, 'w') as f:\n",
    "        f.write(mol_block)\n",
    "\n",
    "    print(f\"Файл {output_mol_file} успешно создан\")"
   ]
  },
  {
   "cell_type": "code",
   "execution_count": 27,
   "metadata": {},
   "outputs": [
    {
     "name": "stdout",
     "output_type": "stream",
     "text": [
      "Файл CCl.mol успешно создан\n"
     ]
    }
   ],
   "source": [
    "smiles_string = \"CCl\"\n",
    "output_mol_file = \"CCl.mol\"\n",
    "smiles_to_mol(smiles_string, output_mol_file)\n"
   ]
  },
  {
   "cell_type": "code",
   "execution_count": 1,
   "metadata": {},
   "outputs": [],
   "source": [
    "from chemtools.calculators.gamessreader import GamessFortranReader, print_twoe, ijkl, factor\n",
    "from chemtools.calculators.gamessus import GamessUS\n",
    "import numpy as np\n",
    "import os\n",
    "from ase.calculators.gamess_us import GAMESSUS"
   ]
  },
  {
   "cell_type": "code",
   "execution_count": 2,
   "metadata": {},
   "outputs": [],
   "source": [
    "gamess = GamessUS(executable=\"/Users/egortuzarov/gms_user/gamess/rungms\",\n",
    "                version=\"30Jun2020R1\",\n",
    "                runopts=None,\n",
    "                scratch=\"/Users/egortuzarov/scratch\")"
   ]
  },
  {
   "cell_type": "code",
   "execution_count": 3,
   "metadata": {},
   "outputs": [
    {
     "data": {
      "text/plain": [
       "'/Users/egortuzarov/Desktop/GamessSolv/1'"
      ]
     },
     "execution_count": 3,
     "metadata": {},
     "output_type": "execute_result"
    }
   ],
   "source": [
    "\n",
    "os.getcwd()"
   ]
  },
  {
   "cell_type": "code",
   "execution_count": 5,
   "metadata": {},
   "outputs": [],
   "source": [
    "inpstr = \"\"\" $BASIS GBASIS=N31 NGAUSS=6 NDFUNC=1 NPFUNC=1 DIFFSP=.TRUE. $END\n",
    " $CONTRL SCFTYP=UHF RUNTYP=OPTIMIZE MULT=2 $END\n",
    " $STATPT OPTTOL=0.0001 NSTEP=20 $END\n",
    "\n",
    " $DATA \n",
    "Title\n",
    "C1\n",
    "C     6.0    -0.13910     0.00530    -0.00010\n",
    "Cl    17.0     1.62660    -0.06170     0.00170\n",
    "H     1.0    -0.51560    -0.52580    -0.87720\n",
    "H     1.0    -0.51530    -0.46750     0.90970\n",
    "H     1.0    -0.45670     1.04970    -0.03420\n",
    " $END\"\"\""
   ]
  },
  {
   "cell_type": "code",
   "execution_count": 6,
   "metadata": {},
   "outputs": [],
   "source": [
    "inpfile = \"CCl.inp\"\n",
    "with open(inpfile, 'w') as inp:\n",
    "    inp.write(inpstr)"
   ]
  },
  {
   "cell_type": "code",
   "execution_count": 7,
   "metadata": {},
   "outputs": [],
   "source": [
    "logfile = gamess.run(inpfile)"
   ]
  },
  {
   "cell_type": "code",
   "execution_count": 8,
   "metadata": {},
   "outputs": [],
   "source": [
    "gamess.parse(logfile, 'hf total energy')"
   ]
  },
  {
   "cell_type": "code",
   "execution_count": 9,
   "metadata": {},
   "outputs": [
    {
     "ename": "AttributeError",
     "evalue": "'NoneType' object has no attribute 'lower'",
     "output_type": "error",
     "traceback": [
      "\u001b[0;31m---------------------------------------------------------------------------\u001b[0m",
      "\u001b[0;31mAttributeError\u001b[0m                            Traceback (most recent call last)",
      "Cell \u001b[0;32mIn[9], line 1\u001b[0m\n\u001b[0;32m----> 1\u001b[0m \u001b[43mgamess\u001b[49m\u001b[38;5;241;43m.\u001b[39;49m\u001b[43mparse\u001b[49m\u001b[43m(\u001b[49m\u001b[43mlogfile\u001b[49m\u001b[43m,\u001b[49m\u001b[43m \u001b[49m\u001b[38;5;124;43m\"\u001b[39;49m\u001b[38;5;124;43mcorrelation energy\u001b[39;49m\u001b[38;5;124;43m\"\u001b[39;49m\u001b[43m)\u001b[49m\n",
      "File \u001b[0;32m~/anaconda3/envs/gms/lib/python3.9/site-packages/chemtools/calculators/gamessus.py:145\u001b[0m, in \u001b[0;36mGamessUS.parse\u001b[0;34m(self, output, objective, regexp)\u001b[0m\n\u001b[1;32m    143\u001b[0m     \u001b[38;5;28;01mreturn\u001b[39;00m energies[\u001b[38;5;124m\"\u001b[39m\u001b[38;5;124mTOTAL ENERGY\u001b[39m\u001b[38;5;124m\"\u001b[39m]\n\u001b[1;32m    144\u001b[0m \u001b[38;5;28;01melif\u001b[39;00m objective \u001b[38;5;241m==\u001b[39m \u001b[38;5;124m\"\u001b[39m\u001b[38;5;124mcorrelation energy\u001b[39m\u001b[38;5;124m\"\u001b[39m:\n\u001b[0;32m--> 145\u001b[0m     energies \u001b[38;5;241m=\u001b[39m \u001b[43mparser\u001b[49m\u001b[38;5;241;43m.\u001b[39;49m\u001b[43mget_energy_components\u001b[49m\u001b[43m(\u001b[49m\u001b[38;5;124;43m'\u001b[39;49m\u001b[38;5;124;43mci\u001b[39;49m\u001b[38;5;124;43m'\u001b[39;49m\u001b[43m)\u001b[49m\n\u001b[1;32m    146\u001b[0m     \u001b[38;5;28;01mreturn\u001b[39;00m energies[\u001b[38;5;124m\"\u001b[39m\u001b[38;5;124mTOTAL ENERGY\u001b[39m\u001b[38;5;124m\"\u001b[39m] \u001b[38;5;241m-\u001b[39m parser\u001b[38;5;241m.\u001b[39mget_hf_total_energy()\n\u001b[1;32m    147\u001b[0m \u001b[38;5;28;01melif\u001b[39;00m objective \u001b[38;5;241m==\u001b[39m \u001b[38;5;124m\"\u001b[39m\u001b[38;5;124mregexp\u001b[39m\u001b[38;5;124m\"\u001b[39m:\n",
      "File \u001b[0;32m~/anaconda3/envs/gms/lib/python3.9/site-packages/chemtools/calculators/gamessus.py:676\u001b[0m, in \u001b[0;36mGamessLogParser.get_energy_components\u001b[0;34m(self, method)\u001b[0m\n\u001b[1;32m    674\u001b[0m         sys\u001b[38;5;241m.\u001b[39mexit(\u001b[38;5;124m\"\u001b[39m\u001b[38;5;124mNo HF calculation was performed, check the log file once again.\u001b[39m\u001b[38;5;124m\"\u001b[39m)\n\u001b[1;32m    675\u001b[0m \u001b[38;5;28;01melif\u001b[39;00m method\u001b[38;5;241m.\u001b[39mlower() \u001b[38;5;129;01min\u001b[39;00m [\u001b[38;5;124m\"\u001b[39m\u001b[38;5;124mci\u001b[39m\u001b[38;5;124m\"\u001b[39m]:\n\u001b[0;32m--> 676\u001b[0m     \u001b[38;5;28;01mif\u001b[39;00m \u001b[38;5;28;43mself\u001b[39;49m\u001b[38;5;241;43m.\u001b[39;49m\u001b[43mget_ci_type\u001b[49m\u001b[43m(\u001b[49m\u001b[43m)\u001b[49m\u001b[38;5;241;43m.\u001b[39;49m\u001b[43mlower\u001b[49m() \u001b[38;5;129;01min\u001b[39;00m [\u001b[38;5;124m\"\u001b[39m\u001b[38;5;124mguga\u001b[39m\u001b[38;5;124m\"\u001b[39m, \u001b[38;5;124m\"\u001b[39m\u001b[38;5;124mormas\u001b[39m\u001b[38;5;124m\"\u001b[39m, \u001b[38;5;124m\"\u001b[39m\u001b[38;5;124mfsoci\u001b[39m\u001b[38;5;124m\"\u001b[39m]:\n\u001b[1;32m    677\u001b[0m         header \u001b[38;5;241m=\u001b[39m \u001b[38;5;124m'\u001b[39m\u001b[38;5;132;01m{0:<5s}\u001b[39;00m\u001b[38;5;124m CI PROPERTIES\u001b[39m\u001b[38;5;124m'\u001b[39m\u001b[38;5;241m.\u001b[39mformat(\u001b[38;5;28mself\u001b[39m\u001b[38;5;241m.\u001b[39mget_ci_type())\n\u001b[1;32m    678\u001b[0m \u001b[38;5;28;01melse\u001b[39;00m:\n",
      "\u001b[0;31mAttributeError\u001b[0m: 'NoneType' object has no attribute 'lower'"
     ]
    }
   ],
   "source": [
    "gamess.parse(logfile, \"correlation energy\")"
   ]
  }
 ],
 "metadata": {
  "kernelspec": {
   "display_name": "gms",
   "language": "python",
   "name": "python3"
  },
  "language_info": {
   "codemirror_mode": {
    "name": "ipython",
    "version": 3
   },
   "file_extension": ".py",
   "mimetype": "text/x-python",
   "name": "python",
   "nbconvert_exporter": "python",
   "pygments_lexer": "ipython3",
   "version": "3.9.18"
  }
 },
 "nbformat": 4,
 "nbformat_minor": 2
}
